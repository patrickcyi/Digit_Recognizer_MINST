{
 "cells": [
  {
   "cell_type": "code",
   "execution_count": 0,
   "metadata": {
    "colab": {},
    "colab_type": "code",
    "id": "wMlGAgkS1C4K"
   },
   "outputs": [],
   "source": [
    "import pandas as pd\n",
    "import numpy as np\n",
    "import matplotlib.pyplot as plt\n",
    "%matplotlib inline"
   ]
  },
  {
   "cell_type": "code",
   "execution_count": 5,
   "metadata": {
    "colab": {
     "base_uri": "https://localhost:8080/",
     "height": 34
    },
    "colab_type": "code",
    "executionInfo": {
     "elapsed": 2912,
     "status": "ok",
     "timestamp": 1590833074147,
     "user": {
      "displayName": "Chongyue Yi",
      "photoUrl": "https://lh4.googleusercontent.com/-BKE1UuxtbUM/AAAAAAAAAAI/AAAAAAAAB1U/mPERcEfjKmI/s64/photo.jpg",
      "userId": "14036631031591962944"
     },
     "user_tz": 420
    },
    "id": "_VukKUHyCjul",
    "outputId": "8ea78eb3-4ad9-45d1-e371-c53a6f1b06ef"
   },
   "outputs": [
    {
     "name": "stdout",
     "output_type": "stream",
     "text": [
      "\u001b[0m\u001b[01;34msample_data\u001b[0m/\n"
     ]
    }
   ],
   "source": [
    "ls\n"
   ]
  },
  {
   "cell_type": "markdown",
   "metadata": {
    "colab_type": "text",
    "id": "Lyd1XpxXCsU-"
   },
   "source": [
    "# New Section"
   ]
  },
  {
   "cell_type": "code",
   "execution_count": 8,
   "metadata": {
    "colab": {
     "base_uri": "https://localhost:8080/",
     "height": 34
    },
    "colab_type": "code",
    "executionInfo": {
     "elapsed": 660,
     "status": "ok",
     "timestamp": 1590833146441,
     "user": {
      "displayName": "Chongyue Yi",
      "photoUrl": "https://lh4.googleusercontent.com/-BKE1UuxtbUM/AAAAAAAAAAI/AAAAAAAAB1U/mPERcEfjKmI/s64/photo.jpg",
      "userId": "14036631031591962944"
     },
     "user_tz": 420
    },
    "id": "bxFE5GJTCtr2",
    "outputId": "99260ec5-cd3b-4f49-e79c-038974e3a8b1"
   },
   "outputs": [
    {
     "name": "stdout",
     "output_type": "stream",
     "text": [
      "Drive already mounted at /content/drive; to attempt to forcibly remount, call drive.mount(\"/content/drive\", force_remount=True).\n"
     ]
    }
   ],
   "source": [
    "from google.colab import drive\n",
    "drive.mount('/content/drive')\n",
    "data_dir='/content/drive/My Drive/9z_ML_Bootcamp/KNN/'"
   ]
  },
  {
   "cell_type": "code",
   "execution_count": 10,
   "metadata": {
    "colab": {
     "base_uri": "https://localhost:8080/",
     "height": 34
    },
    "colab_type": "code",
    "executionInfo": {
     "elapsed": 7226,
     "status": "ok",
     "timestamp": 1590833195728,
     "user": {
      "displayName": "Chongyue Yi",
      "photoUrl": "https://lh4.googleusercontent.com/-BKE1UuxtbUM/AAAAAAAAAAI/AAAAAAAAB1U/mPERcEfjKmI/s64/photo.jpg",
      "userId": "14036631031591962944"
     },
     "user_tz": 420
    },
    "id": "INS4e5B61C4P",
    "outputId": "2f976aa4-d075-41c2-9e6d-cb53d6c9759c"
   },
   "outputs": [
    {
     "name": "stdout",
     "output_type": "stream",
     "text": [
      "(42000, 785)\n"
     ]
    }
   ],
   "source": [
    "data_dir='/content/drive/My Drive/9z_ML_Bootcamp/KNN/'\n",
    "\n",
    "def load_data(data_dir, train_row):\n",
    "    train=pd.read_csv(data_dir+'train.csv')\n",
    "    print(train.shape)\n",
    "    # label x0, x1.. create the pic to 783x783 into 1 array\n",
    "    X_train=train.values[:train_row, 1:]\n",
    "    y_train=train.values[:train_row,0]\n",
    "    \n",
    "    pred=pd.read_csv(data_dir+'test.csv').values\n",
    "    pred_test=pred[:train_row]\n",
    "    return X_train, y_train, pred_test\n",
    "\n",
    "train_row=500\n",
    "Origin_X_train, Origin_y_train, Origin_X_test=load_data(data_dir, train_row)"
   ]
  },
  {
   "cell_type": "code",
   "execution_count": 11,
   "metadata": {
    "colab": {
     "base_uri": "https://localhost:8080/",
     "height": 34
    },
    "colab_type": "code",
    "executionInfo": {
     "elapsed": 543,
     "status": "ok",
     "timestamp": 1590833611992,
     "user": {
      "displayName": "Chongyue Yi",
      "photoUrl": "https://lh4.googleusercontent.com/-BKE1UuxtbUM/AAAAAAAAAAI/AAAAAAAAB1U/mPERcEfjKmI/s64/photo.jpg",
      "userId": "14036631031591962944"
     },
     "user_tz": 420
    },
    "id": "haTuNIac1C4U",
    "outputId": "d5a3b22a-2918-4d40-aae4-70972193a53a"
   },
   "outputs": [
    {
     "data": {
      "text/plain": [
       "(500, 784)"
      ]
     },
     "execution_count": 11,
     "metadata": {
      "tags": []
     },
     "output_type": "execute_result"
    }
   ],
   "source": [
    "Origin_X_train.shape"
   ]
  },
  {
   "cell_type": "code",
   "execution_count": 12,
   "metadata": {
    "colab": {
     "base_uri": "https://localhost:8080/",
     "height": 136
    },
    "colab_type": "code",
    "executionInfo": {
     "elapsed": 534,
     "status": "ok",
     "timestamp": 1590833613694,
     "user": {
      "displayName": "Chongyue Yi",
      "photoUrl": "https://lh4.googleusercontent.com/-BKE1UuxtbUM/AAAAAAAAAAI/AAAAAAAAB1U/mPERcEfjKmI/s64/photo.jpg",
      "userId": "14036631031591962944"
     },
     "user_tz": 420
    },
    "id": "Bh2JYyB11C4X",
    "outputId": "1f39724d-f2a1-4717-9c82-a6516c69be51"
   },
   "outputs": [
    {
     "data": {
      "text/plain": [
       "array([[0, 0, 0, ..., 0, 0, 0],\n",
       "       [0, 0, 0, ..., 0, 0, 0],\n",
       "       [0, 0, 0, ..., 0, 0, 0],\n",
       "       ...,\n",
       "       [0, 0, 0, ..., 0, 0, 0],\n",
       "       [0, 0, 0, ..., 0, 0, 0],\n",
       "       [0, 0, 0, ..., 0, 0, 0]])"
      ]
     },
     "execution_count": 12,
     "metadata": {
      "tags": []
     },
     "output_type": "execute_result"
    }
   ],
   "source": [
    "Origin_X_train"
   ]
  },
  {
   "cell_type": "code",
   "execution_count": 13,
   "metadata": {
    "colab": {
     "base_uri": "https://localhost:8080/",
     "height": 299
    },
    "colab_type": "code",
    "executionInfo": {
     "elapsed": 697,
     "status": "ok",
     "timestamp": 1590833616128,
     "user": {
      "displayName": "Chongyue Yi",
      "photoUrl": "https://lh4.googleusercontent.com/-BKE1UuxtbUM/AAAAAAAAAAI/AAAAAAAAB1U/mPERcEfjKmI/s64/photo.jpg",
      "userId": "14036631031591962944"
     },
     "user_tz": 420
    },
    "id": "IOp4coN-1C4a",
    "outputId": "36e9062e-7814-458f-b857-d46e15672168"
   },
   "outputs": [
    {
     "name": "stdout",
     "output_type": "stream",
     "text": [
      "8\n"
     ]
    },
    {
     "data": {
      "text/plain": [
       "<matplotlib.image.AxesImage at 0x7f843ded6860>"
      ]
     },
     "execution_count": 13,
     "metadata": {
      "tags": []
     },
     "output_type": "execute_result"
    },
    {
     "data": {
      "image/png": "[encoded data removed]",
      "text/plain": [
       "<Figure size 432x288 with 1 Axes>"
      ]
     },
     "metadata": {
      "needs_background": "light",
      "tags": []
     },
     "output_type": "display_data"
    }
   ],
   "source": [
    "row=135\n",
    "print(Origin_y_train[row])\n",
    "plt.imshow(Origin_X_train[row].reshape(28,28))"
   ]
  },
  {
   "cell_type": "code",
   "execution_count": 14,
   "metadata": {
    "colab": {
     "base_uri": "https://localhost:8080/",
     "height": 170
    },
    "colab_type": "code",
    "executionInfo": {
     "elapsed": 1846,
     "status": "ok",
     "timestamp": 1590833620464,
     "user": {
      "displayName": "Chongyue Yi",
      "photoUrl": "https://lh4.googleusercontent.com/-BKE1UuxtbUM/AAAAAAAAAAI/AAAAAAAAB1U/mPERcEfjKmI/s64/photo.jpg",
      "userId": "14036631031591962944"
     },
     "user_tz": 420
    },
    "id": "9omQyYso1C4e",
    "outputId": "5aa7bf74-af95-4557-88de-b71e987bc175"
   },
   "outputs": [
    {
     "name": "stderr",
     "output_type": "stream",
     "text": [
      "/usr/local/lib/python3.6/dist-packages/ipykernel_launcher.py:9: MatplotlibDeprecationWarning: Adding an axes using the same arguments as a previous axes currently reuses the earlier instance.  In a future version, a new instance will always be created and returned.  Meanwhile, this warning can be suppressed, and the future behavior ensured, by passing a unique label to each axes instance.\n",
      "  if __name__ == '__main__':\n"
     ]
    },
    {
     "data": {
      "text/plain": [
       "<function matplotlib.pyplot.show>"
      ]
     },
     "execution_count": 14,
     "metadata": {
      "tags": []
     },
     "output_type": "execute_result"
    },
    {
     "data": {
      "image/png": "[encoded data removed]",
      "text/plain": [
       "<Figure size 432x288 with 21 Axes>"
      ]
     },
     "metadata": {
      "needs_background": "light",
      "tags": []
     },
     "output_type": "display_data"
    }
   ],
   "source": [
    "classes=['0','1','2','3','4','4','6','7','8','9']\n",
    "rows=12\n",
    "for y, cls in enumerate(classes):\n",
    "    idxs=np.nonzero([i==y for i in Origin_y_train])[0]\n",
    "    idxs=np.random.choice(idxs, rows)\n",
    "    \n",
    "    for i, idx in enumerate(idxs):\n",
    "        plt_idx=i+len(classes)+y+1\n",
    "        plt.subplot(rows,len(classes),plt_idx)\n",
    "        plt.imshow(Origin_X_train[idx].reshape(28,28))\n",
    "        plt.axis('off')\n",
    "        if i ==0:\n",
    "            plt.title(cls)\n",
    "plt.show"
   ]
  },
  {
   "cell_type": "code",
   "execution_count": 0,
   "metadata": {
    "colab": {},
    "colab_type": "code",
    "id": "ATLGXl3T1C4h"
   },
   "outputs": [],
   "source": [
    "from sklearn.model_selection import train_test_split\n",
    "from sklearn.metrics import accuracy_score, classification_report, confusion_matrix"
   ]
  },
  {
   "cell_type": "code",
   "execution_count": 0,
   "metadata": {
    "colab": {},
    "colab_type": "code",
    "id": "tFQoLsYU1C4l"
   },
   "outputs": [],
   "source": [
    "X_train, X_test, y_train, y_test = train_test_split(Origin_X_train, Origin_y_train, test_size=0.2, random_state=101)"
   ]
  },
  {
   "cell_type": "code",
   "execution_count": 0,
   "metadata": {
    "colab": {},
    "colab_type": "code",
    "id": "MrFH7OZp1C4o"
   },
   "outputs": [],
   "source": [
    "from sklearn.neighbors import KNeighborsClassifier"
   ]
  },
  {
   "cell_type": "code",
   "execution_count": 18,
   "metadata": {
    "colab": {
     "base_uri": "https://localhost:8080/",
     "height": 170
    },
    "colab_type": "code",
    "executionInfo": {
     "elapsed": 1522,
     "status": "ok",
     "timestamp": 1590833626070,
     "user": {
      "displayName": "Chongyue Yi",
      "photoUrl": "https://lh4.googleusercontent.com/-BKE1UuxtbUM/AAAAAAAAAAI/AAAAAAAAB1U/mPERcEfjKmI/s64/photo.jpg",
      "userId": "14036631031591962944"
     },
     "user_tz": 420
    },
    "id": "-lDLEJkX1C4r",
    "outputId": "4487044d-ac41-4bd0-d949-899a2eb0b35c"
   },
   "outputs": [
    {
     "name": "stdout",
     "output_type": "stream",
     "text": [
      "<function confusion_matrix at 0x7f8432693620>\n",
      "<function confusion_matrix at 0x7f8432693620>\n",
      "<function confusion_matrix at 0x7f8432693620>\n",
      "<function confusion_matrix at 0x7f8432693620>\n",
      "<function confusion_matrix at 0x7f8432693620>\n",
      "<function confusion_matrix at 0x7f8432693620>\n",
      "<function confusion_matrix at 0x7f8432693620>\n",
      "<function confusion_matrix at 0x7f8432693620>\n"
     ]
    },
    {
     "data": {
      "text/plain": [
       "[0.75, 0.73, 0.77, 0.75, 0.76, 0.73, 0.71, 0.72]"
      ]
     },
     "execution_count": 18,
     "metadata": {
      "tags": []
     },
     "output_type": "execute_result"
    }
   ],
   "source": [
    "k_range=range(1,9)\n",
    "scores=[]\n",
    "\n",
    "for k in k_range:\n",
    "    knn=KNeighborsClassifier(n_neighbors=k)\n",
    "    knn.fit(X_train,y_train)\n",
    "    y_pred=knn.predict(X_test)\n",
    "    accuracy=accuracy_score(y_test, y_pred)\n",
    "    scores.append(accuracy)\n",
    "    print(confusion_matrix)\n",
    "scores"
   ]
  },
  {
   "cell_type": "code",
   "execution_count": 19,
   "metadata": {
    "colab": {
     "base_uri": "https://localhost:8080/",
     "height": 282
    },
    "colab_type": "code",
    "executionInfo": {
     "elapsed": 1087,
     "status": "ok",
     "timestamp": 1590833629028,
     "user": {
      "displayName": "Chongyue Yi",
      "photoUrl": "https://lh4.googleusercontent.com/-BKE1UuxtbUM/AAAAAAAAAAI/AAAAAAAAB1U/mPERcEfjKmI/s64/photo.jpg",
      "userId": "14036631031591962944"
     },
     "user_tz": 420
    },
    "id": "F6kHytNy1C4v",
    "outputId": "70e5ea6f-d9d1-415d-df92-a2be76ad1a4b"
   },
   "outputs": [
    {
     "data": {
      "text/plain": [
       "[<matplotlib.lines.Line2D at 0x7f842f9e52b0>]"
      ]
     },
     "execution_count": 19,
     "metadata": {
      "tags": []
     },
     "output_type": "execute_result"
    },
    {
     "data": {
      "image/png": "[encoded data removed]",
      "text/plain": [
       "<Figure size 432x288 with 1 Axes>"
      ]
     },
     "metadata": {
      "needs_background": "light",
      "tags": []
     },
     "output_type": "display_data"
    }
   ],
   "source": [
    "plt.plot(k_range,scores)"
   ]
  },
  {
   "cell_type": "code",
   "execution_count": 0,
   "metadata": {
    "colab": {},
    "colab_type": "code",
    "id": "eH7J_Krn1C4y"
   },
   "outputs": [],
   "source": [
    "k=5\n",
    "knn= KNeighborsClassifier(n_neighbors=k)\n",
    "knn.fit(Origin_X_train, Origin_y_train)\n",
    "y_pred=knn.predict(Origin_X_test[:300])"
   ]
  },
  {
   "cell_type": "code",
   "execution_count": 0,
   "metadata": {
    "colab": {},
    "colab_type": "code",
    "id": "LhYyQ3l91C40"
   },
   "outputs": [],
   "source": [
    "indx=299\n",
    "print(y_pred[indx])\n",
    "plt.imshow(Origin_X_train[indx].reshape(28,28))"
   ]
  },
  {
   "cell_type": "code",
   "execution_count": 0,
   "metadata": {
    "colab": {},
    "colab_type": "code",
    "id": "ZTkpD36-1C4-"
   },
   "outputs": [],
   "source": []
  },
  {
   "cell_type": "code",
   "execution_count": 0,
   "metadata": {
    "colab": {},
    "colab_type": "code",
    "id": "nhN3EYyE1C5D"
   },
   "outputs": [],
   "source": []
  },
  {
   "cell_type": "code",
   "execution_count": 0,
   "metadata": {
    "colab": {},
    "colab_type": "code",
    "id": "tlW8fG3r1C5G"
   },
   "outputs": [],
   "source": []
  },
  {
   "cell_type": "code",
   "execution_count": 0,
   "metadata": {
    "colab": {},
    "colab_type": "code",
    "id": "wfDKtkqH1C5I"
   },
   "outputs": [],
   "source": []
  },
  {
   "cell_type": "code",
   "execution_count": 0,
   "metadata": {
    "colab": {},
    "colab_type": "code",
    "id": "lTWey2Lw1C5K"
   },
   "outputs": [],
   "source": []
  },
  {
   "cell_type": "code",
   "execution_count": 0,
   "metadata": {
    "colab": {},
    "colab_type": "code",
    "id": "cuIy7J8W1C5O"
   },
   "outputs": [],
   "source": []
  },
  {
   "cell_type": "code",
   "execution_count": 0,
   "metadata": {
    "colab": {},
    "colab_type": "code",
    "id": "nut_BJ611C5R"
   },
   "outputs": [],
   "source": []
  },
  {
   "cell_type": "code",
   "execution_count": 0,
   "metadata": {
    "colab": {},
    "colab_type": "code",
    "id": "7iwB7K2_1C5V"
   },
   "outputs": [],
   "source": []
  },
  {
   "cell_type": "code",
   "execution_count": 0,
   "metadata": {
    "colab": {},
    "colab_type": "code",
    "id": "8NUc5SAj1C5Y"
   },
   "outputs": [],
   "source": []
  }
 ],
 "metadata": {
  "colab": {
   "name": "My KNN.ipynb",
   "provenance": []
  },
  "kernelspec": {
   "display_name": "Python 3",
   "language": "python",
   "name": "python3"
  },
  "language_info": {
   "codemirror_mode": {
    "name": "ipython",
    "version": 3
   },
   "file_extension": ".py",
   "mimetype": "text/x-python",
   "name": "python",
   "nbconvert_exporter": "python",
   "pygments_lexer": "ipython3",
   "version": "3.7.6"
  }
 },
 "nbformat": 4,
 "nbformat_minor": 1
}
